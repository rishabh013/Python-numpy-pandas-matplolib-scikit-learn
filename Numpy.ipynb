{
 "cells": [
  {
   "cell_type": "code",
   "execution_count": 1,
   "id": "449e76e1",
   "metadata": {},
   "outputs": [
    {
     "name": "stdout",
     "output_type": "stream",
     "text": [
      "1.20.1\n"
     ]
    }
   ],
   "source": [
    "import numpy as np\n",
    "print(np.__version__)"
   ]
  },
  {
   "cell_type": "code",
   "execution_count": null,
   "id": "70e98967",
   "metadata": {},
   "outputs": [],
   "source": [
    "#  print(np.info(np.add))  if will give information how to add the function"
   ]
  },
  {
   "cell_type": "markdown",
   "id": "49cccc22",
   "metadata": {},
   "source": [
    "# Array creation"
   ]
  },
  {
   "cell_type": "code",
   "execution_count": 49,
   "id": "af3e248a",
   "metadata": {},
   "outputs": [
    {
     "name": "stdout",
     "output_type": "stream",
     "text": [
      "[10 18 24 28 30 30]\n"
     ]
    }
   ],
   "source": [
    "import numpy as np\n",
    "  \n",
    "list1 = [1, 2, 3, 4, 5, 6]\n",
    "list2 = [10, 9, 8, 7, 6, 5]\n",
    "a1 = np.array(list1)\n",
    "a2 = np.array(list2)  \n",
    "print(a1*a2)"
   ]
  },
  {
   "cell_type": "code",
   "execution_count": 2,
   "id": "52cb9cf2",
   "metadata": {},
   "outputs": [
    {
     "name": "stdout",
     "output_type": "stream",
     "text": [
      "[[6.+0.j 6.+0.j 6.+0.j]\n",
      " [6.+0.j 6.+0.j 6.+0.j]\n",
      " [6.+0.j 6.+0.j 6.+0.j]]\n"
     ]
    }
   ],
   "source": [
    "d = np.full((3, 3), 6, dtype = 'complex')\n",
    "print(d)"
   ]
  },
  {
   "cell_type": "code",
   "execution_count": 3,
   "id": "cdf8b13b",
   "metadata": {},
   "outputs": [
    {
     "name": "stdout",
     "output_type": "stream",
     "text": [
      "[[ 2  3  4]\n",
      " [ 5  6  7]\n",
      " [ 8  9 10]]\n"
     ]
    }
   ],
   "source": [
    "x= np.arange(2,11).reshape(3,3) # reshape the vale 3*3 matrix\n",
    "print(x)"
   ]
  },
  {
   "cell_type": "code",
   "execution_count": 46,
   "id": "36a66395",
   "metadata": {},
   "outputs": [
    {
     "name": "stdout",
     "output_type": "stream",
     "text": [
      "[[[0 1]\n",
      "  [2 3]]\n",
      "\n",
      " [[4 5]\n",
      "  [6 7]]]\n"
     ]
    }
   ],
   "source": [
    "array = np.arange(8).reshape(2, 2, 2)\n",
    "print(array)"
   ]
  },
  {
   "cell_type": "code",
   "execution_count": 44,
   "id": "07d646c2",
   "metadata": {},
   "outputs": [
    {
     "name": "stdout",
     "output_type": "stream",
     "text": [
      "\n",
      "Matrix c : \n",
      " [[0. 0. 0.]\n",
      " [0. 0. 0.]\n",
      " [0. 0. 0.]]\n"
     ]
    }
   ],
   "source": [
    "c = np.empty([3, 3])\n",
    "print(\"\\nMatrix c : \\n\", c)"
   ]
  },
  {
   "cell_type": "code",
   "execution_count": 8,
   "id": "2b068393",
   "metadata": {},
   "outputs": [
    {
     "name": "stdout",
     "output_type": "stream",
     "text": [
      "[10  8  6  4  2]\n",
      "[4 8 6 2]\n"
     ]
    }
   ],
   "source": [
    "a = np.arange(10,1,-2)\n",
    "print(a)\n",
    "newarr = a[np.array([3, 1, 2 ,4])]   # give the index value\n",
    "print(newarr)"
   ]
  },
  {
   "cell_type": "markdown",
   "id": "bff49192",
   "metadata": {},
   "source": [
    "# indexing"
   ]
  },
  {
   "cell_type": "code",
   "execution_count": 9,
   "id": "49415c57",
   "metadata": {},
   "outputs": [
    {
     "name": "stdout",
     "output_type": "stream",
     "text": [
      "[2 4 7]\n"
     ]
    }
   ],
   "source": [
    "x = np.array([1, 2, 3, 4, 5, 6, 7, 8, 9])\n",
    "arr = x[np.array([1, 3, -3])]        # give the index value\n",
    "print(arr)"
   ]
  },
  {
   "cell_type": "code",
   "execution_count": 11,
   "id": "b50963b1",
   "metadata": {},
   "outputs": [
    {
     "name": "stdout",
     "output_type": "stream",
     "text": [
      "[12 13 14 15 16]\n"
     ]
    }
   ],
   "source": [
    "a = np.arange(20)\n",
    "print(a[-8:17:1])"
   ]
  },
  {
   "cell_type": "code",
   "execution_count": 28,
   "id": "3347b5c7",
   "metadata": {},
   "outputs": [
    {
     "name": "stdout",
     "output_type": "stream",
     "text": [
      "[[ 0  1  2  3  4  5]\n",
      " [ 6  7  8  9 10 11]\n",
      " [12 13 14 15 16 17]\n",
      " [18 19 20 21 22 23]\n",
      " [24 25 26 27 28 29]\n",
      " [30 31 32 33 34 35]]\n",
      "1st [3 4]\n",
      "2nd [[28 29]\n",
      " [34 35]]\n",
      "3rd [ 2  8 14 20 26 32]\n",
      "4th [[12 14 16]\n",
      " [24 26 28]]\n"
     ]
    }
   ],
   "source": [
    "a = np.array([[0, 1, 2, 3, 4, 5],\n",
    "              [6, 7, 8, 9, 10, 11],\n",
    "              [12, 13, 14, 15, 16, 17],\n",
    "              [18, 19, 20, 21, 22, 23],\n",
    "              [24, 25, 26, 27, 28, 29],\n",
    "              [30, 31, 32, 33, 34, 35]])\n",
    "print(a)\n",
    "print(\"1st\", a[0, 3:5])     # 0 is row and 3:5 is (3 to 4)column, get value is both intersect\n",
    "print(\"2nd\", a[4:, 4:])     # 4 to end row & 4 to end column\n",
    "print(\"3rd\", a[:, 2])       # 0 to end row & 2 is cloum\n",
    "print(\"4th\", a[2::2, ::2])"
   ]
  },
  {
   "cell_type": "code",
   "execution_count": 31,
   "id": "b43164d5",
   "metadata": {},
   "outputs": [
    {
     "name": "stdout",
     "output_type": "stream",
     "text": [
      "3\n",
      "[[ 2  5]\n",
      " [ 8 11]]\n"
     ]
    }
   ],
   "source": [
    "b = np.array([[[1, 2, 3],[4, 5, 6]],\n",
    "              [[7, 8, 9],[10, 11, 12]]])\n",
    "print(b.ndim)\n",
    "print(b[...,1])"
   ]
  },
  {
   "cell_type": "code",
   "execution_count": 37,
   "id": "23916e19",
   "metadata": {},
   "outputs": [
    {
     "name": "stdout",
     "output_type": "stream",
     "text": [
      "[1 3 6]\n"
     ]
    }
   ],
   "source": [
    "a = np.array([[1 ,2 ],[3 ,4 ],[5 ,6 ]])\n",
    "\n",
    "print(a[[0 ,1 ,2 ],[0 ,0 ,1]])  # this case value will select (0,0) (1,0) (2,1)"
   ]
  },
  {
   "cell_type": "code",
   "execution_count": 35,
   "id": "c436ce01",
   "metadata": {},
   "outputs": [
    {
     "name": "stdout",
     "output_type": "stream",
     "text": [
      "[[ 0  1  2]\n",
      " [ 3  4  5]\n",
      " [ 6  7  8]\n",
      " [ 9 10 11]]\n",
      "\n",
      "[[4 5]]\n",
      "[[4 5]]\n"
     ]
    }
   ],
   "source": [
    "a = np.array([[0 ,1 ,2],[3 ,4 ,5 ],\n",
    "              [6 ,7 ,8],[9 ,10 ,11]])\n",
    "print(a)\n",
    "print()\n",
    "print(a[1:2 ,1:3 ])    # 1 row & 1 to 3 column intersect\n",
    "print(a[1:2 ,[1,2]])"
   ]
  },
  {
   "cell_type": "code",
   "execution_count": 38,
   "id": "b94833ed",
   "metadata": {},
   "outputs": [
    {
     "name": "stdout",
     "output_type": "stream",
     "text": [
      "[ 80 100]\n"
     ]
    }
   ],
   "source": [
    "# Boolean Array Indexing:\n",
    "a = np.array([10, 40, 80, 50, 100])\n",
    "print(a[a>50])"
   ]
  },
  {
   "cell_type": "code",
   "execution_count": 39,
   "id": "e58b1cd9",
   "metadata": {},
   "outputs": [
    {
     "name": "stdout",
     "output_type": "stream",
     "text": [
      "[1600 6400]\n"
     ]
    }
   ],
   "source": [
    "a = np.array([10, 40, 80, 50, 100])\n",
    "print(a[a%40==0]**2)"
   ]
  },
  {
   "cell_type": "code",
   "execution_count": 40,
   "id": "95ab552a",
   "metadata": {},
   "outputs": [
    {
     "name": "stdout",
     "output_type": "stream",
     "text": [
      "[[ 5  5]\n",
      " [16  4]]\n"
     ]
    }
   ],
   "source": [
    "b = np.array([[5, 5],[4, 5],[16, 4]])\n",
    "sumrow = b.sum(-1)\n",
    "print(b[sumrow%10==0])"
   ]
  },
  {
   "cell_type": "markdown",
   "id": "da89177f",
   "metadata": {},
   "source": [
    "# data type object"
   ]
  },
  {
   "cell_type": "code",
   "execution_count": 50,
   "id": "53c45eea",
   "metadata": {},
   "outputs": [
    {
     "name": "stdout",
     "output_type": "stream",
     "text": [
      "int16\n"
     ]
    }
   ],
   "source": [
    "print(np.dtype(np.int16))"
   ]
  },
  {
   "cell_type": "code",
   "execution_count": 65,
   "id": "9b37019b",
   "metadata": {},
   "outputs": [
    {
     "data": {
      "text/plain": [
       "dtype('float64')"
      ]
     },
     "execution_count": 65,
     "metadata": {},
     "output_type": "execute_result"
    }
   ],
   "source": [
    "a = np.zeros(5)\n",
    "a.dtype"
   ]
  },
  {
   "cell_type": "code",
   "execution_count": 68,
   "id": "67a9ea50",
   "metadata": {},
   "outputs": [
    {
     "data": {
      "text/plain": [
       "array([0, 0, 0, 0, 0, 0], dtype=int8)"
      ]
     },
     "execution_count": 68,
     "metadata": {},
     "output_type": "execute_result"
    }
   ],
   "source": [
    "b = np.zeros(6,dtype=np.int8)\n",
    "b"
   ]
  },
  {
   "cell_type": "code",
   "execution_count": 69,
   "id": "7cdfbdd2",
   "metadata": {},
   "outputs": [
    {
     "data": {
      "text/plain": [
       "array([0, 0, 0, 0, 0, 0])"
      ]
     },
     "execution_count": 69,
     "metadata": {},
     "output_type": "execute_result"
    }
   ],
   "source": [
    "c = np.zeros(6,dtype = int)\n",
    "c"
   ]
  },
  {
   "cell_type": "code",
   "execution_count": 71,
   "id": "47e269d5",
   "metadata": {},
   "outputs": [
    {
     "data": {
      "text/plain": [
       "array([1., 2., 3.], dtype=float32)"
      ]
     },
     "execution_count": 71,
     "metadata": {},
     "output_type": "execute_result"
    }
   ],
   "source": [
    "x = np.array([1,2,3], dtype = 'f')\n",
    "x"
   ]
  },
  {
   "cell_type": "code",
   "execution_count": 74,
   "id": "5854f6b6",
   "metadata": {},
   "outputs": [
    {
     "data": {
      "text/plain": [
       "array([0., 0., 0.])"
      ]
     },
     "execution_count": 74,
     "metadata": {},
     "output_type": "execute_result"
    }
   ],
   "source": [
    "a = np.zeros(3)\n",
    "a                 # by default it takes float"
   ]
  },
  {
   "cell_type": "code",
   "execution_count": 75,
   "id": "bbe5e66b",
   "metadata": {},
   "outputs": [
    {
     "data": {
      "text/plain": [
       "array([0, 0, 0])"
      ]
     },
     "execution_count": 75,
     "metadata": {},
     "output_type": "execute_result"
    }
   ],
   "source": [
    "a.astype(int)     #we changethe already taken the default value"
   ]
  },
  {
   "cell_type": "code",
   "execution_count": 58,
   "id": "48a0b164",
   "metadata": {},
   "outputs": [
    {
     "name": "stdout",
     "output_type": "stream",
     "text": [
      "<class 'numpy.ndarray'>\n",
      "int32\n"
     ]
    }
   ],
   "source": [
    "import numpy as np\n",
    "a = np.array([2])\n",
    "print(type(a))  # type is:\n",
    "print(a.dtype)  # dtype is:"
   ]
  },
  {
   "cell_type": "code",
   "execution_count": 62,
   "id": "e0dc8a57",
   "metadata": {},
   "outputs": [
    {
     "name": "stdout",
     "output_type": "stream",
     "text": [
      "('<f8', (2,))\n",
      "<U16\n"
     ]
    }
   ],
   "source": [
    "dt = np.dtype([('name', np.unicode_, 16), ('grades', np.float64, 2)])\n",
    "print(dt['grades'])\n",
    "print(dt['name'])"
   ]
  },
  {
   "cell_type": "code",
   "execution_count": 63,
   "id": "a1c4d742",
   "metadata": {},
   "outputs": [
    {
     "name": "stdout",
     "output_type": "stream",
     "text": [
      "('John', [6., 7.])\n",
      "Grades of John are:  [6. 7.]\n",
      "Names are:  ['Sarah' 'John']\n"
     ]
    }
   ],
   "source": [
    "x = np.array([('Sarah', (8.0, 7.0)), ('John', (6.0, 7.0))], dtype=dt)   # dt = data type\n",
    "print(x[1])\n",
    " \n",
    "print(\"Grades of John are: \", x[1]['grades'])\n",
    "print(\"Names are: \", x['name'])"
   ]
  },
  {
   "cell_type": "markdown",
   "id": "a9226983",
   "metadata": {},
   "source": [
    "# Iterating"
   ]
  },
  {
   "cell_type": "code",
   "execution_count": 7,
   "id": "b7f142ae",
   "metadata": {},
   "outputs": [
    {
     "name": "stdout",
     "output_type": "stream",
     "text": [
      "[[ 0  1  2  3]\n",
      " [ 4  5  6  7]\n",
      " [ 8  9 10 11]]\n",
      "0 1 2 3 4 5 6 7 8 9 10 11 "
     ]
    }
   ],
   "source": [
    "import numpy as np\n",
    "a = np.arange(12).reshape(3,4)\n",
    "print(a)\n",
    "\n",
    "for row in a:\n",
    "    for cell in row:\n",
    "        print(cell,end=\" \")  "
   ]
  },
  {
   "cell_type": "code",
   "execution_count": 20,
   "id": "c657a324",
   "metadata": {},
   "outputs": [
    {
     "data": {
      "text/plain": [
       "array([1, 2, 3, 4, 5, 6, 7, 8, 9])"
      ]
     },
     "execution_count": 20,
     "metadata": {},
     "output_type": "execute_result"
    }
   ],
   "source": [
    "b = np.array([[1,2,3], [4,5,6], [7,8,9]])\n",
    "b.flatten()"
   ]
  },
  {
   "cell_type": "code",
   "execution_count": 22,
   "id": "67f50308",
   "metadata": {},
   "outputs": [
    {
     "name": "stdout",
     "output_type": "stream",
     "text": [
      "1 2 3 4 5 6 7 8 9 "
     ]
    }
   ],
   "source": [
    "for x in np.nditer(b,order='c'):     # C order\n",
    "    print(x, end=\" \")"
   ]
  },
  {
   "cell_type": "code",
   "execution_count": 23,
   "id": "ea22a67a",
   "metadata": {},
   "outputs": [
    {
     "name": "stdout",
     "output_type": "stream",
     "text": [
      "1 4 7 2 5 8 3 6 9 "
     ]
    }
   ],
   "source": [
    "for x in np.nditer(b,order='F'):     # Fortran order\n",
    "    print(x, end=\" \")"
   ]
  },
  {
   "cell_type": "code",
   "execution_count": 24,
   "id": "c8d34328",
   "metadata": {},
   "outputs": [
    {
     "name": "stdout",
     "output_type": "stream",
     "text": [
      "[1 4 7]\n",
      "[2 5 8]\n",
      "[3 6 9]\n"
     ]
    }
   ],
   "source": [
    "for x in np.nditer(b,order='F',flags=['external_loop']):     \n",
    "    print(x)"
   ]
  },
  {
   "cell_type": "code",
   "execution_count": 40,
   "id": "a66f309e",
   "metadata": {},
   "outputs": [
    {
     "name": "stdout",
     "output_type": "stream",
     "text": [
      "[[ 0  1  2  3]\n",
      " [ 4  5  6  7]\n",
      " [ 8  9 10 11]]\n"
     ]
    }
   ],
   "source": [
    "d = np.arange(12).reshape(3,4)\n",
    "print(d)"
   ]
  },
  {
   "cell_type": "code",
   "execution_count": 53,
   "id": "f333018e",
   "metadata": {},
   "outputs": [
    {
     "name": "stdout",
     "output_type": "stream",
     "text": [
      "[[     0  62500 125000 187500]\n",
      " [250000 312500 375000 437500]\n",
      " [500000 562500 625000 687500]]\n"
     ]
    }
   ],
   "source": [
    "for x in np.nditer(d, op_flags = ['readwrite']):\n",
    "    x[...] = 5*x\n",
    "print(d)"
   ]
  },
  {
   "cell_type": "code",
   "execution_count": 59,
   "id": "88255fd0",
   "metadata": {},
   "outputs": [
    {
     "name": "stdout",
     "output_type": "stream",
     "text": [
      "[[ 0  1  2  3]\n",
      " [ 4  5  6  7]\n",
      " [ 8  9 10 11]]\n",
      "[5 6 7 8]\n"
     ]
    }
   ],
   "source": [
    "c = np.arange(12).reshape(3,4)\n",
    "e = np.array([5, 6, 7, 8], dtype = int)\n",
    "print(c)\n",
    "print(e)"
   ]
  },
  {
   "cell_type": "code",
   "execution_count": 57,
   "id": "07ab365b",
   "metadata": {},
   "outputs": [
    {
     "name": "stdout",
     "output_type": "stream",
     "text": [
      "0 5\n",
      "1 6\n",
      "2 7\n",
      "3 8\n",
      "4 5\n",
      "5 6\n",
      "6 7\n",
      "7 8\n",
      "8 5\n",
      "9 6\n",
      "10 7\n",
      "11 8\n"
     ]
    }
   ],
   "source": [
    "for x,y in np.nditer([c,e]):\n",
    "    print(x,y)"
   ]
  },
  {
   "cell_type": "markdown",
   "id": "6060a44a",
   "metadata": {},
   "source": [
    "# Bitwise operator & math"
   ]
  },
  {
   "cell_type": "code",
   "execution_count": 60,
   "id": "5309332b",
   "metadata": {},
   "outputs": [
    {
     "name": "stdout",
     "output_type": "stream",
     "text": [
      "Input  number1 :  10\n",
      "Input  number2 :  11\n",
      "10\n"
     ]
    }
   ],
   "source": [
    "in_num1 = 10\n",
    "in_num2 = 11\n",
    " \n",
    "print (\"Input  number1 : \", in_num1)\n",
    "print (\"Input  number2 : \", in_num2) \n",
    "   \n",
    "out_num = np.bitwise_and(in_num1, in_num2) \n",
    "print (out_num)"
   ]
  },
  {
   "cell_type": "code",
   "execution_count": 69,
   "id": "e89ee0c4",
   "metadata": {},
   "outputs": [
    {
     "name": "stdout",
     "output_type": "stream",
     "text": [
      "[  2   0 113]\n",
      "[  3  11 127]\n",
      "[ 1 11 14]\n"
     ]
    }
   ],
   "source": [
    "in_arr1 = [2, 8, 125]\n",
    "in_arr2 = [3, 3, 115]\n",
    "   \n",
    "out_arr = np.bitwise_or(in_arr1, in_arr2)\n",
    "out_arr1 = np.bitwise_xor(in_arr1, in_arr2)\n",
    "out_arr2 = np.bitwise_and(in_arr1, in_arr2) \n",
    "print (out_arr2)      # Output array after bitwise_and:\n",
    "print(out_arr)    # Output array after bitwise_or:\n",
    "print(out_arr1)   # Output array after bitwise_xor:"
   ]
  },
  {
   "cell_type": "code",
   "execution_count": 68,
   "id": "201d00a0",
   "metadata": {},
   "outputs": [
    {
     "name": "stdout",
     "output_type": "stream",
     "text": [
      "[ -3  -1 -26]\n"
     ]
    }
   ],
   "source": [
    "in_arr = [2, 0, 25]  \n",
    "out_arr = np.invert(in_arr) \n",
    "print (out_arr)"
   ]
  },
  {
   "cell_type": "code",
   "execution_count": 73,
   "id": "941b2882",
   "metadata": {},
   "outputs": [
    {
     "name": "stdout",
     "output_type": "stream",
     "text": [
      "40\n"
     ]
    }
   ],
   "source": [
    "in_num = 5\n",
    "bit_shift = 3\n",
    "\n",
    "out_num = np.left_shift(in_num, bit_shift) \n",
    "print (out_num)               #  5*(2^2) get"
   ]
  },
  {
   "cell_type": "code",
   "execution_count": 72,
   "id": "8f00c77c",
   "metadata": {},
   "outputs": [
    {
     "name": "stdout",
     "output_type": "stream",
     "text": [
      "[ 16 128 480]\n"
     ]
    }
   ],
   "source": [
    "in_arr = [2, 8, 15]\n",
    "bit_shift =[3, 4, 5]\n",
    "\n",
    "out_arr = np.left_shift(in_arr, bit_shift) \n",
    "print (out_arr)          # Output array after left shifting:"
   ]
  },
  {
   "cell_type": "code",
   "execution_count": 76,
   "id": "db72a0cf",
   "metadata": {},
   "outputs": [
    {
     "name": "stdout",
     "output_type": "stream",
     "text": [
      "Input array : \n",
      " [0, 1.5707963267948966, 1.0471975511965976, 3.141592653589793]\n",
      "[ 1.000000e+00  6.123234e-17  5.000000e-01 -1.000000e+00]\n",
      "[0.00000000e+00 1.00000000e+00 8.66025404e-01 1.22464680e-16]\n"
     ]
    }
   ],
   "source": [
    "import numpy as np\n",
    "import math\n",
    " \n",
    "in_array = [0, math.pi / 2, np.pi / 3, np.pi]\n",
    "print (\"Input array : \\n\", in_array)\n",
    " \n",
    "cos_Values = np.cos(in_array)\n",
    "print (cos_Values)  #  Cosine values :\n",
    "\n",
    "Sin_Values = np.sin(in_array)\n",
    "print(Sin_Values)    # sine value"
   ]
  },
  {
   "cell_type": "code",
   "execution_count": 78,
   "id": "c6458c4b",
   "metadata": {},
   "outputs": [
    {
     "name": "stdout",
     "output_type": "stream",
     "text": [
      "[ 0.  2.  2.  4.  4. 10.]\n"
     ]
    }
   ],
   "source": [
    "in_array = [.5, 1.5, 2.5, 3.5, 4.5, 10.1]\n",
    " \n",
    "round_off_values = np.round_(in_array)\n",
    "print (round_off_values)      # Rounded values :"
   ]
  },
  {
   "cell_type": "code",
   "execution_count": 82,
   "id": "7383d1ac",
   "metadata": {},
   "outputs": [
    {
     "name": "stdout",
     "output_type": "stream",
     "text": [
      "[  2.71828183  20.08553692 148.4131591 ]\n",
      "[0.         1.09861229 1.60943791]\n"
     ]
    }
   ],
   "source": [
    "in_array = [1, 3, 5]\n",
    "out_array = np.exp(in_array)\n",
    "print (out_array)  # exponential value\n",
    "\n",
    "out_array = np.log(in_array)\n",
    "print(out_array)"
   ]
  },
  {
   "cell_type": "code",
   "execution_count": 83,
   "id": "a9f02ba7",
   "metadata": {},
   "outputs": [
    {
     "name": "stdout",
     "output_type": "stream",
     "text": [
      "Output number :  0.5\n"
     ]
    }
   ],
   "source": [
    "in_num = 2.0\n",
    "out_num = np.reciprocal(in_num)\n",
    "print (\"Output number : \", out_num)"
   ]
  },
  {
   "cell_type": "markdown",
   "id": "703227db",
   "metadata": {},
   "source": [
    "# String"
   ]
  },
  {
   "cell_type": "code",
   "execution_count": 87,
   "id": "009b783e",
   "metadata": {},
   "outputs": [
    {
     "name": "stdout",
     "output_type": "stream",
     "text": [
      "['geeks' 'for']\n",
      "['geeks', ' for', ' geeks']\n",
      "g-e-e-k-s\n",
      "['g-e-e-k-s' 'f:o:r']\n"
     ]
    }
   ],
   "source": [
    "import numpy as np\n",
    "\n",
    "print(np.char.lower(['GEEKS', 'FOR']))\n",
    "print(np.char.split('geeks, for, geeks', sep = ','))\n",
    "print(np.char.join('-', 'geeks'))\n",
    "print(np.char.join(['-', ':'], ['geeks', 'for']))"
   ]
  },
  {
   "cell_type": "code",
   "execution_count": 3,
   "id": "5393d8aa",
   "metadata": {},
   "outputs": [
    {
     "name": "stdout",
     "output_type": "stream",
     "text": [
      "[1 0 1]\n",
      "[0 1 0]\n"
     ]
    }
   ],
   "source": [
    "import numpy as np\n",
    "a = np.array(['geeks', 'for', 'geeks'])\n",
    " \n",
    "print(np.char.count(a,'geek'))  # get the value then print 1 otherwise 0\n",
    "print(np.char.count(a, 'fo'))"
   ]
  },
  {
   "cell_type": "code",
   "execution_count": 4,
   "id": "513412cf",
   "metadata": {},
   "outputs": [
    {
     "name": "stdout",
     "output_type": "stream",
     "text": [
      "[ 0 -1  0]\n",
      "[-1  0 -1]\n"
     ]
    }
   ],
   "source": [
    "import numpy as np\n",
    " \n",
    "a=np.array(['geeks', 'for', 'geeks'])\n",
    " \n",
    "# counting a substring\n",
    "print(np.char.rfind(a,'geek'))  #  If not found then it returns -1\n",
    "print(np.char.rfind(a, 'fo'))"
   ]
  },
  {
   "cell_type": "code",
   "execution_count": 6,
   "id": "86b9b3d8",
   "metadata": {},
   "outputs": [
    {
     "name": "stdout",
     "output_type": "stream",
     "text": [
      "True\n",
      "False\n"
     ]
    }
   ],
   "source": [
    "print(np.char.isnumeric('12'))\n",
    "print(np.char.isnumeric('12geeks'))"
   ]
  },
  {
   "cell_type": "raw",
   "id": "85a5a27e",
   "metadata": {},
   "source": []
  },
  {
   "cell_type": "code",
   "execution_count": 13,
   "id": "bcd0a90e",
   "metadata": {},
   "outputs": [
    {
     "name": "stdout",
     "output_type": "stream",
     "text": [
      "False\n",
      "True\n"
     ]
    }
   ],
   "source": [
    "a=np.char.equal('geeks','for') # comparision both string\n",
    "print(a)\n",
    "\n",
    "# b = np.char.unequal('geeks','for')\n",
    "# print(b)\n",
    "a=np.char.greater('geeks','for')\n",
    " \n",
    "print(a)"
   ]
  },
  {
   "cell_type": "markdown",
   "id": "98169f7b",
   "metadata": {},
   "source": [
    "# Linear Algebra"
   ]
  },
  {
   "cell_type": "code",
   "execution_count": 45,
   "id": "52e95f19",
   "metadata": {},
   "outputs": [
    {
     "name": "stdout",
     "output_type": "stream",
     "text": [
      "[[ 7 15]\n",
      " [13 27]]\n"
     ]
    }
   ],
   "source": [
    "a = [[2,3], [4,5]]\n",
    "b = [[2,3], [1,3]]\n",
    "result = np.dot(a, b)\n",
    "print(result)"
   ]
  },
  {
   "cell_type": "code",
   "execution_count": 46,
   "id": "82ca330c",
   "metadata": {},
   "outputs": [
    {
     "name": "stdout",
     "output_type": "stream",
     "text": [
      "[[ 4  6  2  6]\n",
      " [ 6  9  3  9]\n",
      " [ 8 12  4 12]\n",
      " [10 15  5 15]]\n"
     ]
    }
   ],
   "source": [
    "a = [[2,3], [4,5]]\n",
    "b = [[2,3], [1,3]]\n",
    "result2 = np.outer(a, b)\n",
    "print(result2)"
   ]
  },
  {
   "cell_type": "code",
   "execution_count": 47,
   "id": "c721dc52",
   "metadata": {},
   "outputs": [
    {
     "name": "stdout",
     "output_type": "stream",
     "text": [
      "[0 7]\n"
     ]
    }
   ],
   "source": [
    "p = [[2,3], [4,5]]\n",
    "q = [[2,3], [1,3]]\n",
    "result1 = np.cross(p, q)\n",
    "print(result1)"
   ]
  },
  {
   "cell_type": "code",
   "execution_count": 49,
   "id": "07096525",
   "metadata": {},
   "outputs": [
    {
     "name": "stdout",
     "output_type": "stream",
     "text": [
      "Kronecker product  of the said arrays:\n",
      "[0 1 0 0 2 0 0 3 0]\n"
     ]
    }
   ],
   "source": [
    "a = np.array([1,2,3])\n",
    "b = np.array([0,1,0])\n",
    "result = np.kron(a, b)\n",
    "print(\"Kronecker product  of the said arrays:\")\n",
    "print(result)"
   ]
  },
  {
   "cell_type": "code",
   "execution_count": 14,
   "id": "55fd757e",
   "metadata": {},
   "outputs": [
    {
     "name": "stdout",
     "output_type": "stream",
     "text": [
      "Array is : [[ 1.+0.j -0.-2.j]\n",
      " [ 0.+2.j  5.+0.j]]\n"
     ]
    }
   ],
   "source": [
    "a = np.array([[1, -2j], [2j, 5]])\n",
    " \n",
    "print(\"Array is :\",a)"
   ]
  },
  {
   "cell_type": "code",
   "execution_count": 16,
   "id": "e4f27a5f",
   "metadata": {},
   "outputs": [
    {
     "name": "stdout",
     "output_type": "stream",
     "text": [
      "\n",
      "Trace of A: 11\n"
     ]
    }
   ],
   "source": [
    "import numpy as np\n",
    "\n",
    "A = np.array([[6, 1, 1],\n",
    "              [4, -2, 5],\n",
    "              [2, 8, 7]])\n",
    " print(\"\\nTrace of A:\", np.trace(A))"
   ]
  },
  {
   "cell_type": "code",
   "execution_count": 17,
   "id": "4f336177",
   "metadata": {},
   "outputs": [
    {
     "name": "stdout",
     "output_type": "stream",
     "text": [
      "('\\nDeterminant of A:', -306.0)\n"
     ]
    }
   ],
   "source": [
    "A = np.array([[6, 1, 1],\n",
    "              [4, -2, 5],\n",
    "              [2, 8, 7]])\n",
    " \n",
    "print((\"\\nDeterminant of A:\", np.linalg.det(A)))"
   ]
  },
  {
   "cell_type": "markdown",
   "id": "cea5f8ae",
   "metadata": {},
   "source": [
    "# Sorting, searching, counting"
   ]
  },
  {
   "cell_type": "code",
   "execution_count": 19,
   "id": "6ddf4beb",
   "metadata": {},
   "outputs": [
    {
     "name": "stdout",
     "output_type": "stream",
     "text": [
      "[[12 15]\n",
      " [10  1]]\n",
      "Along first axis : \n",
      " [[10  1]\n",
      " [12 15]]\n"
     ]
    }
   ],
   "source": [
    "a = np.array([[12, 15], [10, 1]])\n",
    "print(a)\n",
    "arr1 = np.sort(a, axis = 0)    # every column sort individually (Lower to Upper)       \n",
    "print (\"Along first axis : \\n\", arr1) "
   ]
  },
  {
   "cell_type": "code",
   "execution_count": 23,
   "id": "b227b4a8",
   "metadata": {},
   "outputs": [
    {
     "name": "stdout",
     "output_type": "stream",
     "text": [
      "[[10 15]\n",
      " [12  1]]\n",
      "\n",
      "Along first axis : \n",
      " [[10 15]\n",
      " [ 1 12]]\n"
     ]
    }
   ],
   "source": [
    "a = np.array([[10, 15], [12, 1]])\n",
    "print(a)\n",
    "arr2 = np.sort(a, axis = -1)        \n",
    "print(\"\\nAlong first axis : \\n\", arr2)"
   ]
  },
  {
   "cell_type": "code",
   "execution_count": 22,
   "id": "738c8382",
   "metadata": {},
   "outputs": [
    {
     "name": "stdout",
     "output_type": "stream",
     "text": [
      "[[12 15]\n",
      " [10  1]]\n",
      "\n",
      "Along none axis : \n",
      " [ 1 10 12 15]\n"
     ]
    }
   ],
   "source": [
    "a = np.array([[12, 15], [10, 1]])\n",
    "print(a)\n",
    "arr1 = np.sort(a, axis = None)        \n",
    "print(\"\\nAlong none axis : \\n\", arr1)"
   ]
  },
  {
   "cell_type": "code",
   "execution_count": 24,
   "id": "d6c7b961",
   "metadata": {},
   "outputs": [],
   "source": [
    "# Not completed"
   ]
  },
  {
   "cell_type": "markdown",
   "id": "942a5b6b",
   "metadata": {},
   "source": [
    "# numpy |random. randint() function"
   ]
  },
  {
   "cell_type": "code",
   "execution_count": 27,
   "id": "ae9e2f91",
   "metadata": {},
   "outputs": [],
   "source": [
    "# rand()       # uniformly distributed  values\n",
    "# randint()    # uniformly distributed integer values\n",
    "# ranf()       # uniformly distributed integer values\n",
    "#randn()       # normally distributed  values      "
   ]
  },
  {
   "cell_type": "code",
   "execution_count": 31,
   "id": "2b8fdf88",
   "metadata": {},
   "outputs": [
    {
     "name": "stdout",
     "output_type": "stream",
     "text": [
      "[0.27680007 0.88326205 0.59534184 0.41446208 0.51584913]\n"
     ]
    }
   ],
   "source": [
    "Z = np.random.rand(5)\n",
    "print(Z)"
   ]
  },
  {
   "cell_type": "code",
   "execution_count": 32,
   "id": "d0473d0b",
   "metadata": {},
   "outputs": [
    {
     "name": "stdout",
     "output_type": "stream",
     "text": [
      "[[0.65176244 0.17289039 0.66776259]\n",
      " [0.15723444 0.18434748 0.56969789]]\n"
     ]
    }
   ],
   "source": [
    "arr1 = np.random.rand(2,3)\n",
    "print(arr1)"
   ]
  },
  {
   "cell_type": "code",
   "execution_count": 28,
   "id": "4fec68b1",
   "metadata": {},
   "outputs": [
    {
     "name": "stdout",
     "output_type": "stream",
     "text": [
      "[[5. 3. 8.]\n",
      " [0. 3. 4.]]\n"
     ]
    }
   ],
   "source": [
    "A = np.round(10*np.random.rand(2,3))\n",
    "print(A)"
   ]
  },
  {
   "cell_type": "code",
   "execution_count": 29,
   "id": "cc8e533e",
   "metadata": {},
   "outputs": [
    {
     "name": "stdout",
     "output_type": "stream",
     "text": [
      "[9 0 6 3 4 2 5 1 8 7]\n"
     ]
    }
   ],
   "source": [
    "import numpy as np\n",
    "A = np.random.permutation(np.arange(10))\n",
    "print(A)"
   ]
  },
  {
   "cell_type": "code",
   "execution_count": 27,
   "id": "d7b3fbac",
   "metadata": {},
   "outputs": [
    {
     "name": "stdout",
     "output_type": "stream",
     "text": [
      "Output 1D Array filled with random integers :  [1 0 1 2 0]\n"
     ]
    }
   ],
   "source": [
    "import numpy as np\n",
    "\n",
    "#numpy.random.randint(low, high=None, size=None, dtype=’l’)\n",
    "\n",
    "out_arr = np.random.randint(low = 0, high = 3, size = 5)   \n",
    "print (\"Output 1D Array filled with random integers : \", out_arr)"
   ]
  },
  {
   "cell_type": "code",
   "execution_count": null,
   "id": "1d808ca7",
   "metadata": {},
   "outputs": [],
   "source": []
  },
  {
   "cell_type": "code",
   "execution_count": 29,
   "id": "2c810806",
   "metadata": {},
   "outputs": [
    {
     "name": "stdout",
     "output_type": "stream",
     "text": [
      "Output 2D Array filled with random integers :  [[1 2 3]\n",
      " [1 3 1]]\n"
     ]
    }
   ],
   "source": [
    "out_arr = np.random.randint(low = 4, size =(2, 3))  # 2 row 3 colum\n",
    "print (\"Output 2D Array filled with random integers : \", out_arr) "
   ]
  },
  {
   "cell_type": "code",
   "execution_count": 30,
   "id": "b97fdc0d",
   "metadata": {},
   "outputs": [
    {
     "name": "stdout",
     "output_type": "stream",
     "text": [
      "Output 3D Array filled with random integers :  [[[4 5 5 4]\n",
      "  [8 6 9 9]\n",
      "  [6 4 9 6]]\n",
      "\n",
      " [[7 4 9 2]\n",
      "  [3 3 6 7]\n",
      "  [5 9 9 7]]]\n"
     ]
    }
   ],
   "source": [
    "out_arr = geek.random.randint(2, 10, (2, 3, 4))  # low = 2, high = 10, matrix= 2,3,4\n",
    "print (\"Output 3D Array filled with random integers : \", out_arr)"
   ]
  },
  {
   "cell_type": "markdown",
   "id": "9c701973",
   "metadata": {},
   "source": [
    "# Random sampling in numpy | random_sample() function"
   ]
  },
  {
   "cell_type": "code",
   "execution_count": null,
   "id": "63d36717",
   "metadata": {},
   "outputs": [],
   "source": [
    "# numpy.random.random_sample() is one of the function for doing \n",
    "# random sampling in numpy. It returns an array of specified shape and\n",
    "# fills it with random floats in the half-open interval [0.0, 1.0)."
   ]
  },
  {
   "cell_type": "code",
   "execution_count": 8,
   "id": "0e651f2c",
   "metadata": {},
   "outputs": [
    {
     "name": "stdout",
     "output_type": "stream",
     "text": [
      "Output random float value :  0.9387280557142557\n"
     ]
    }
   ],
   "source": [
    "out_val = np.random.random_sample()\n",
    "print (\"Output random float value : \", out_val)"
   ]
  },
  {
   "cell_type": "code",
   "execution_count": 10,
   "id": "70e49485",
   "metadata": {},
   "outputs": [
    {
     "name": "stdout",
     "output_type": "stream",
     "text": [
      "Output 2D Array filled with random floats :  [[0.64501426 0.25308157 0.20693803]]\n"
     ]
    }
   ],
   "source": [
    "out_arr = np.random.random_sample(size =(1, 3))\n",
    "print (\"Output 2D Array filled with random floats : \", out_arr)"
   ]
  },
  {
   "cell_type": "code",
   "execution_count": 11,
   "id": "4c12c490",
   "metadata": {},
   "outputs": [
    {
     "name": "stdout",
     "output_type": "stream",
     "text": [
      "Output 3D Array filled with random floats :  [[[0.25710716]\n",
      "  [0.19422148]]\n",
      "\n",
      " [[0.96387745]\n",
      "  [0.59005443]]\n",
      "\n",
      " [[0.2337291 ]\n",
      "  [0.11847503]]]\n"
     ]
    }
   ],
   "source": [
    "out_arr = np.random.random_sample((3, 2, 1))\n",
    "print (\"Output 3D Array filled with random floats : \", out_arr)"
   ]
  },
  {
   "cell_type": "markdown",
   "id": "afdbfb70",
   "metadata": {},
   "source": [
    "# Random sampling in numpy | ranf() function"
   ]
  },
  {
   "cell_type": "code",
   "execution_count": null,
   "id": "44bcb6ec",
   "metadata": {},
   "outputs": [],
   "source": [
    "# numpy.random.ranf() is one of the function for doing random \n",
    "# sampling in numpy. It returns an array of specified shape and \n",
    "# fills it with random floats in the half-open interval [0.0, 1.0)."
   ]
  },
  {
   "cell_type": "code",
   "execution_count": 13,
   "id": "14d48b62",
   "metadata": {},
   "outputs": [
    {
     "name": "stdout",
     "output_type": "stream",
     "text": [
      "Output random float value :  0.9875587409371372\n"
     ]
    }
   ],
   "source": [
    "#numpy.random.ranf(size=None)\n",
    "\n",
    "out_val = np.random.ranf()\n",
    "print (\"Output random float value : \", out_val)"
   ]
  },
  {
   "cell_type": "code",
   "execution_count": 14,
   "id": "69779899",
   "metadata": {},
   "outputs": [
    {
     "name": "stdout",
     "output_type": "stream",
     "text": [
      "Output 2D Array filled with random floats :  [[0.74422996]\n",
      " [0.96595141]]\n"
     ]
    }
   ],
   "source": [
    "out_arr = np.random.ranf(size =(2, 1))\n",
    "print (\"Output 2D Array filled with random floats : \", out_arr)"
   ]
  },
  {
   "cell_type": "code",
   "execution_count": 16,
   "id": "c89fe644",
   "metadata": {},
   "outputs": [
    {
     "name": "stdout",
     "output_type": "stream",
     "text": [
      "Output 3D Array filled with random floats :  [[[0.03098791 0.05576051]\n",
      "  [0.57836732 0.1970554 ]\n",
      "  [0.95666585 0.12014111]]\n",
      "\n",
      " [[0.60550149 0.37175724]\n",
      "  [0.63132599 0.94975108]\n",
      "  [0.37040909 0.7173222 ]]\n",
      "\n",
      " [[0.65481222 0.50169867]\n",
      "  [0.0491669  0.98636306]\n",
      "  [0.92909105 0.690225  ]]]\n"
     ]
    }
   ],
   "source": [
    "out_arr = np.random.ranf((3, 3, 2))\n",
    "print (\"Output 3D Array filled with random floats : \", out_arr)"
   ]
  },
  {
   "cell_type": "markdown",
   "id": "8d76c6bb",
   "metadata": {},
   "source": [
    "# Random sampling in numpy | random_integers() function"
   ]
  },
  {
   "cell_type": "code",
   "execution_count": null,
   "id": "b266a6e7",
   "metadata": {},
   "outputs": [],
   "source": [
    "# numpy.random.random_integers() is one of the function for doing random\n",
    "# sampling in numpy. It returns an array of specified shape and fills it with\n",
    "# random integers from low (inclusive) to high (exclusive), i.e. in the interval [low, high).\n",
    "\n",
    "# Syntax : numpy.random.random_integers(low, high=None, size=None)\n"
   ]
  },
  {
   "cell_type": "code",
   "execution_count": 22,
   "id": "dafcc75d",
   "metadata": {},
   "outputs": [
    {
     "name": "stdout",
     "output_type": "stream",
     "text": [
      "Output 1D Array filled with random integers :  [5 3 5 5]\n"
     ]
    },
    {
     "name": "stderr",
     "output_type": "stream",
     "text": [
      "<ipython-input-22-981ed3fc5b89>:2: DeprecationWarning: This function is deprecated. Please call randint(0, 5 + 1) instead\n",
      "  out_arr = np.random.random_integers(low = 0, high = 5, size = 4)\n"
     ]
    }
   ],
   "source": [
    "import numpy as np\n",
    "out_arr = np.random.random_integers(low = 0, high = 5, size = 4)\n",
    "print (\"Output 1D Array filled with random integers : \", out_arr)"
   ]
  },
  {
   "cell_type": "code",
   "execution_count": 23,
   "id": "8b513840",
   "metadata": {},
   "outputs": [
    {
     "name": "stdout",
     "output_type": "stream",
     "text": [
      "Output 2D Array filled with random integers :  [[1 2 2]\n",
      " [3 1 2]\n",
      " [1 2 2]]\n"
     ]
    },
    {
     "name": "stderr",
     "output_type": "stream",
     "text": [
      "<ipython-input-23-332c808dbc83>:1: DeprecationWarning: This function is deprecated. Please call randint(1, 3 + 1) instead\n",
      "  out_arr = np.random.random_integers(low = 3, size =(3, 3))\n"
     ]
    }
   ],
   "source": [
    "out_arr = np.random.random_integers(low = 3, size =(3, 3))\n",
    "print (\"Output 2D Array filled with random integers : \", out_arr)"
   ]
  },
  {
   "cell_type": "code",
   "execution_count": 24,
   "id": "dfc7b39d",
   "metadata": {},
   "outputs": [
    {
     "name": "stdout",
     "output_type": "stream",
     "text": [
      "Output 3D Array filled with random integers :  [[[2 6 2]\n",
      "  [6 6 6]]\n",
      "\n",
      " [[4 2 5]\n",
      "  [6 6 5]]]\n"
     ]
    },
    {
     "name": "stderr",
     "output_type": "stream",
     "text": [
      "<ipython-input-24-03f512aa788a>:1: DeprecationWarning: This function is deprecated. Please call randint(1, 6 + 1) instead\n",
      "  out_arr = np.random.random_integers(1, 6, (2, 2, 3))\n"
     ]
    }
   ],
   "source": [
    "out_arr = np.random.random_integers(1, 6, (2, 2, 3))\n",
    "print (\"Output 3D Array filled with random integers : \", out_arr)"
   ]
  },
  {
   "cell_type": "markdown",
   "id": "bbfd1387",
   "metadata": {},
   "source": [
    "# Universal Function"
   ]
  },
  {
   "cell_type": "code",
   "execution_count": 36,
   "id": "304e87b3",
   "metadata": {},
   "outputs": [
    {
     "name": "stdout",
     "output_type": "stream",
     "text": [
      "[  0  30  45  60  90 180]\n"
     ]
    }
   ],
   "source": [
    "arr = np.array([0, 30, 45, 60, 90, 180])\n",
    "radians = np.deg2rad(arr)   # conver radian into degree\n",
    "#degree = np.rad2deg(arr)\n",
    "print(arr)"
   ]
  },
  {
   "cell_type": "code",
   "execution_count": 37,
   "id": "db113040",
   "metadata": {},
   "outputs": [
    {
     "name": "stdout",
     "output_type": "stream",
     "text": [
      "[0.00000000e+00 5.00000000e-01 7.07106781e-01 8.66025404e-01\n",
      " 1.00000000e+00 1.22464680e-16]\n"
     ]
    }
   ],
   "source": [
    "sine_value = np.sin(radians)\n",
    "print(sine_value)"
   ]
  },
  {
   "cell_type": "code",
   "execution_count": 40,
   "id": "64cb3ba8",
   "metadata": {},
   "outputs": [
    {
     "name": "stdout",
     "output_type": "stream",
     "text": [
      "45.0 73.25\n"
     ]
    }
   ],
   "source": [
    "weight = np.array([50.7, 52.5, 50, 58, 55.63, 73.25, 49.5, 45])\n",
    "print(np.amin(weight), np.amax(weight))\n"
   ]
  },
  {
   "cell_type": "code",
   "execution_count": 42,
   "id": "df24b182",
   "metadata": {},
   "outputs": [
    {
     "name": "stdout",
     "output_type": "stream",
     "text": [
      "Weight below which 70 % student fall: \n",
      "55.317\n",
      "Mean weight of the students: \n",
      "54.3225\n",
      "Median weight of the students: \n",
      "51.6\n",
      "Standard deviation of weight of the students: \n",
      "8.052773978574091\n"
     ]
    }
   ],
   "source": [
    "# percentile\n",
    "print('Weight below which 70 % student fall: ')\n",
    "print(np.percentile(weight, 70))\n",
    "\n",
    "print('Mean weight of the students: ')\n",
    "print(np.mean(weight))\n",
    "  \n",
    "# median \n",
    "print('Median weight of the students: ')\n",
    "print(np.median(weight))\n",
    "  \n",
    "# standard deviation \n",
    "print('Standard deviation of weight of the students: ')\n",
    "print(np.std(weight))"
   ]
  },
  {
   "cell_type": "code",
   "execution_count": 43,
   "id": "dc997d5c",
   "metadata": {},
   "outputs": [
    {
     "name": "stdout",
     "output_type": "stream",
     "text": [
      "bitwise_and of two arrays: \n",
      "[ 0  2  4  6  8 16 32]\n",
      "bitwise_or of two arrays: \n",
      "[ 1  3  5  7  9 17 33]\n",
      "bitwise_xor of two arrays: \n",
      "[1 1 1 1 1 1 1]\n",
      "inversion of even no. array: \n",
      "[ -1  -3  -5  -7  -9 -17 -33]\n",
      "left_shift of even no. array: \n",
      "[ 0  4  8 12 16 32 64]\n",
      "right_shift of even no. array: \n",
      "[ 0  1  2  3  4  8 16]\n"
     ]
    }
   ],
   "source": [
    "even = np.array([0, 2, 4, 6, 8, 16, 32])\n",
    "odd = np.array([1, 3, 5, 7, 9, 17, 33])\n",
    "  \n",
    "# bitwise_and\n",
    "print('bitwise_and of two arrays: ')\n",
    "print(np.bitwise_and(even, odd))\n",
    "  \n",
    "# bitwise_or\n",
    "print('bitwise_or of two arrays: ')\n",
    "print(np.bitwise_or(even, odd))\n",
    "  \n",
    "# bitwise_xor\n",
    "print('bitwise_xor of two arrays: ')\n",
    "print(np.bitwise_xor(even, odd))\n",
    "   \n",
    "# invert or not\n",
    "print('inversion of even no. array: ')\n",
    "print(np.invert(even))\n",
    "  \n",
    "# left_shift \n",
    "print('left_shift of even no. array: ')\n",
    "print(np.left_shift(even, 1))\n",
    "  \n",
    "# right_shift \n",
    "print('right_shift of even no. array: ')\n",
    "print(np.right_shift(even, 1))"
   ]
  },
  {
   "cell_type": "markdown",
   "id": "4116e500",
   "metadata": {},
   "source": [
    "# End"
   ]
  },
  {
   "cell_type": "code",
   "execution_count": null,
   "id": "f2988a5d",
   "metadata": {},
   "outputs": [],
   "source": []
  }
 ],
 "metadata": {
  "kernelspec": {
   "display_name": "Python 3",
   "language": "python",
   "name": "python3"
  },
  "language_info": {
   "codemirror_mode": {
    "name": "ipython",
    "version": 3
   },
   "file_extension": ".py",
   "mimetype": "text/x-python",
   "name": "python",
   "nbconvert_exporter": "python",
   "pygments_lexer": "ipython3",
   "version": "3.8.8"
  }
 },
 "nbformat": 4,
 "nbformat_minor": 5
}
